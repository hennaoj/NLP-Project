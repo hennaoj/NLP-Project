{
  "cells": [
    {
      "cell_type": "markdown",
      "metadata": {},
      "source": [
        "WRITE A PROGRAM THAT ALLOWS YOU TO RETRIEVE THE CATEGORY OF NOUN AND ADJECTIVE / ADVERB IN A SENTENCE ACCORDING TO WORDSTAT"
      ]
    },
    {
      "cell_type": "markdown",
      "metadata": {},
      "source": [
        "First searching the statistical value of one word"
      ]
    },
    {
      "cell_type": "code",
      "execution_count": null,
      "metadata": {},
      "outputs": [],
      "source": [
        "# import required modules\n",
        "from wordstats import Word\n",
        "\n",
        "Word.stats('metaphore','en').difficulty\n",
        "Word.stats('meta','en').difficulty\n",
        "print (Word.stats('metaphor', 'en'))"
      ]
    },
    {
      "cell_type": "markdown",
      "metadata": {},
      "source": [
        "Then, the statistical value of a sentence"
      ]
    },
    {
      "cell_type": "code",
      "execution_count": 1,
      "metadata": {
        "trusted": true
      },
      "outputs": [],
      "source": [
        "# defining the function to get the stats\n",
        "def stats(request):\n",
        "    if request.method == \"POST\":\n",
        "        form = SearchForm(request.POST)\n",
        "        if form.is_valid():\n",
        "            url = form.cleaned_data[\"url\"]\n",
        "\n",
        "            input = getWords(getDocument(url))\n",
        "\n",
        "            output = wordstats.stats(input)\n",
        "            jsonstats = json.dumps(output.wordcount, indent=4)\n",
        "\n",
        "            return render_to_response(\n",
        "                \"graph.html\", {\"shortest\": output.shortest, \"longest\": output.longest, \"wordcount\": jsonstats}\n",
        "            )\n",
        "    else:\n",
        "        form = SearchForm()\n",
        "\n",
        "    return render_to_response(\"index.html\", {\"form\": form})"
      ]
    },
    {
      "cell_type": "code",
      "execution_count": null,
      "metadata": {},
      "outputs": [],
      "source": [
        "# import required modules\n",
        "import wordstats\n",
        "\n",
        "input = \"this is a test to see how well this search thing works. a word like test which is used multiple times in a test should test if the number of times test shows worked.\"\n",
        "\n",
        "output = wordstats.stats(input)\n",
        "\n",
        "#print output.wordcount\n",
        "assert len(output.wordcount) == 10\n",
        "\n",
        "#print output.shortest\n",
        "assert output.shortest == \"is\"\n",
        "\n",
        "#print output.longest\n",
        "assert output.longest == \"multiple\""
      ]
    },
    {
      "cell_type": "markdown",
      "metadata": {},
      "source": [
        "Trying categorization (Noun or adjective/adverb) for a single word"
      ]
    },
    {
      "cell_type": "code",
      "execution_count": null,
      "metadata": {},
      "outputs": [],
      "source": [
        "# import required modules\n",
        "import nltk\n",
        "from nltk.corpus import wordnet as wn\n",
        "nltk.download('averaged_perceptron_tagger')\n",
        "\n",
        "def get_type(word): \n",
        "    # taking input text \n",
        "    tokens = nltk.word_tokenize(word)\n",
        "    ans = nltk.pos_tag(tokens)\n",
        "  \n",
        "    # ans returns a list of tuple\n",
        "    val = ans[0][1]\n",
        "  \n",
        "    # checking if it is a noun or not\n",
        "    if(val == 'NN' or val == 'NNS' or val == 'NNPS' or val == 'NNP'):\n",
        "        return(\"NOUN\")\n",
        "    else:\n",
        "        return(\"ADJECTIVE/ADVERB\")"
      ]
    },
    {
      "cell_type": "markdown",
      "metadata": {},
      "source": [
        "Solution for each category"
      ]
    },
    {
      "cell_type": "code",
      "execution_count": null,
      "metadata": {},
      "outputs": [],
      "source": [
        "# Using the NLTK WordNet dictionary check if the word is noun and check category.\n",
        "import nltk\n",
        "nltk.download('wordnet')\n",
        "from nltk.corpus import wordnet as wn\n",
        "\n",
        "def get_categories(word):\n",
        "\n",
        "    syns = wn.synsets(str(word))\n",
        "\n",
        "    for syn in syns:\n",
        "        print(syn.lexname())"
      ]
    },
    {
      "cell_type": "markdown",
      "metadata": {},
      "source": [
        "Geting the category from a sentence"
      ]
    },
    {
      "cell_type": "code",
      "execution_count": 16,
      "metadata": {},
      "outputs": [],
      "source": [
        "from nltk.tokenize import word_tokenize\n",
        "\n",
        "def get_sentence(sentence):\n",
        "    words = word_tokenize(sentence)\n",
        "\n",
        "    for word in words:\n",
        "        print(f\"Word: {word} - Type: {get_type(word)}\")\n",
        "        print(\"Categories:\")\n",
        "        get_categories(word)\n"
      ]
    },
    {
      "cell_type": "markdown",
      "metadata": {},
      "source": [
        "CONCLUSIONS"
      ]
    },
    {
      "cell_type": "code",
      "execution_count": 18,
      "metadata": {},
      "outputs": [
        {
          "name": "stdout",
          "output_type": "stream",
          "text": [
            "Word: The - Type: ADJECTIVE/ADVERB\n",
            "Categories:\n",
            "Word: snow - Type: NOUN\n",
            "Categories:\n",
            "noun.phenomenon\n",
            "noun.substance\n",
            "noun.person\n",
            "noun.artifact\n",
            "verb.weather\n",
            "verb.communication\n",
            "Word: is - Type: ADJECTIVE/ADVERB\n",
            "Categories:\n",
            "verb.stative\n",
            "verb.stative\n",
            "verb.stative\n",
            "verb.stative\n",
            "verb.stative\n",
            "verb.stative\n",
            "verb.stative\n",
            "verb.social\n",
            "verb.stative\n",
            "verb.possession\n",
            "verb.stative\n",
            "verb.stative\n",
            "verb.stative\n",
            "Word: a - Type: ADJECTIVE/ADVERB\n",
            "Categories:\n",
            "noun.quantity\n",
            "noun.substance\n",
            "noun.substance\n",
            "noun.substance\n",
            "noun.quantity\n",
            "noun.communication\n",
            "noun.body\n",
            "Word: white - Type: ADJECTIVE/ADVERB\n",
            "Categories:\n",
            "noun.person\n",
            "noun.attribute\n",
            "noun.person\n",
            "noun.person\n",
            "noun.person\n",
            "noun.person\n",
            "noun.person\n",
            "noun.person\n",
            "noun.object\n",
            "noun.food\n",
            "noun.artifact\n",
            "noun.artifact\n",
            "verb.change\n",
            "adj.all\n",
            "adj.all\n",
            "adj.all\n",
            "adj.all\n",
            "adj.all\n",
            "adj.all\n",
            "adj.all\n",
            "adj.all\n",
            "adj.all\n",
            "adj.all\n",
            "adj.all\n",
            "adj.all\n",
            "Word: blanket - Type: NOUN\n",
            "Categories:\n",
            "noun.artifact\n",
            "noun.object\n",
            "noun.artifact\n",
            "verb.contact\n",
            "verb.stative\n",
            "adj.all\n"
          ]
        }
      ],
      "source": [
        "sentence = \"The snow is a white blanket\"\n",
        "\n",
        "get_sentence(sentence)"
      ]
    }
  ],
  "metadata": {
    "kernelspec": {
      "display_name": "Python 3.8.6 64-bit",
      "language": "python",
      "name": "python3"
    },
    "language_info": {
      "codemirror_mode": {
        "name": "ipython",
        "version": 3
      },
      "file_extension": ".py",
      "mimetype": "text/x-python",
      "name": "python",
      "nbconvert_exporter": "python",
      "pygments_lexer": "ipython3",
      "version": "3.8.6"
    },
    "vscode": {
      "interpreter": {
        "hash": "955391b39711d1ff0718fcc7974ed32d904d543c75b553a10266020b2aafc6bc"
      }
    }
  },
  "nbformat": 4,
  "nbformat_minor": 4
}

