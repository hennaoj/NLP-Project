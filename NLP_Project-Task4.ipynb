{
  "metadata": {
    "language_info": {
      "codemirror_mode": {
        "name": "python",
        "version": 3
      },
      "file_extension": ".py",
      "mimetype": "text/x-python",
      "name": "python",
      "nbconvert_exporter": "python",
      "pygments_lexer": "ipython3",
      "version": "3.8"
    },
    "kernelspec": {
      "name": "python",
      "display_name": "Python (Pyodide)",
      "language": "python"
    }
  },
  "nbformat_minor": 4,
  "nbformat": 4,
  "cells": [
    {
      "cell_type": "markdown",
      "source": "WRITE A PROGRAM THAT ALLOWS YOU TO RETRIEVE THE CATEGORY OF NOUN AND ADJECTIVE / ADVERB IN A SENTENCE ACCORDING TO WORDSTAT",
      "metadata": {}
    },
    {
      "cell_type": "markdown",
      "source": "First searching the statistical value of one word",
      "metadata": {}
    },
    {
      "cell_type": "code",
      "source": "from wordstats import Word\n\nWord.stats('metaphore','en').difficulty\nWord.stats('meta','en').difficulty\nprint (Word.stats('metaphor', 'en'))",
      "metadata": {},
      "execution_count": null,
      "outputs": []
    },
    {
      "cell_type": "markdown",
      "source": "Then, the statistical value of a sentence",
      "metadata": {}
    },
    {
      "cell_type": "code",
      "source": "def stats(request):\n    if request.method == \"POST\":\n        form = SearchForm(request.POST)\n        if form.is_valid():\n            url = form.cleaned_data[\"url\"]\n\n            input = getWords(getDocument(url))\n\n            output = wordstats.stats(input)\n            jsonstats = json.dumps(output.wordcount, indent=4)\n\n            return render_to_response(\n                \"graph.html\", {\"shortest\": output.shortest, \"longest\": output.longest, \"wordcount\": jsonstats}\n            )\n    else:\n        form = SearchForm()\n\n    return render_to_response(\"index.html\", {\"form\": form})",
      "metadata": {
        "trusted": true
      },
      "execution_count": 1,
      "outputs": []
    },
    {
      "cell_type": "code",
      "source": "import wordstats\n\ninput = \"this is a test to see how well this search thing works. a word like test which is used multiple times in a test should test if the number of times test shows worked.\"\n\noutput = wordstats.stats(input)\n\n#print output.wordcount\nassert len(output.wordcount) == 10\n\n#print output.shortest\nassert output.shortest == \"is\"\n\n#print output.longest\nassert output.longest == \"multiple\"",
      "metadata": {},
      "execution_count": null,
      "outputs": []
    },
    {
      "cell_type": "code",
      "source": "",
      "metadata": {},
      "execution_count": null,
      "outputs": []
    }
  ]
}
