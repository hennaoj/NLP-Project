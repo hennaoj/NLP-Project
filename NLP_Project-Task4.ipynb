{
 "cells": [
  {
   "cell_type": "markdown",
   "metadata": {},
   "source": [
    "WRITE A PROGRAM THAT ALLOWS YOU TO RETRIEVE THE CATEGORY OF NOUN AND ADJECTIVE / ADVERB IN A SENTENCE ACCORDING TO WORDSTAT"
   ]
  },
  {
   "cell_type": "code",
   "execution_count": null,
   "metadata": {},
   "outputs": [],
   "source": [
    "import\n",
    "\n",
    "for\n",
    "    print"
   ]
  }
}
