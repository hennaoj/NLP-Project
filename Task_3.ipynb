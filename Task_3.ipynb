{
 "cells": [
  {
   "cell_type": "code",
   "execution_count": 2,
   "metadata": {},
   "outputs": [],
   "source": [
    "import nltk\n",
    "from nltk.corpus.reader.bnc import BNCCorpusReader\n",
    "reader = BNCCorpusReader(root='BNC/Texts/', fileids=r'[A-K]/\\w*/\\w*\\.xml')"
   ]
  },
  {
   "cell_type": "code",
   "execution_count": null,
   "metadata": {},
   "outputs": [],
   "source": [
    "reader.fileids()"
   ]
  },
  {
   "cell_type": "code",
   "execution_count": null,
   "metadata": {},
   "outputs": [],
   "source": [
    "Frases = reader.sents('A/A0/A0A.xml')\n",
    "Frases\n",
    "#[['CAMRA', 'FACT', 'SHEET', 'No', '1'], ['How', 'beer', 'is', 'brewed'], ...]\n",
    "#Frases[1]\n",
    "#['How', 'beer', 'is', 'brewed']\n",
    "#Frases[2]\n",
    "for i in range(0, len(Frases)):\n",
    "    print('FRASE: ' + str(Frases[i]))\n",
    "    \n"
   ]
  },
  {
   "cell_type": "markdown",
   "metadata": {},
   "source": [
    "WRITE A PROGRAM THAT IMPUTS EACH SENTENCE OF THE ANNOTATED CORPUS:"
   ]
  },
  {
   "cell_type": "code",
   "execution_count": null,
   "metadata": {},
   "outputs": [],
   "source": [
    "filename = \"BNC/Texts/A/A0/annotated_corpus.txt\"\n",
    "file = open(filename, \"r\", encoding = \"utf-8\")\n",
    "text = file.read()\n",
    "print(text)"
   ]
  },
  {
   "cell_type": "markdown",
   "metadata": {},
   "source": [
    "READ THE HEAD WPRD(GIVEN IN THE ANNOTATION):"
   ]
  },
  {
   "cell_type": "code",
   "execution_count": 51,
   "metadata": {},
   "outputs": [
    {
     "name": "stdout",
     "output_type": "stream",
     "text": [
      "poise\n"
     ]
    }
   ],
   "source": [
    "HEAD_WORD = text.split(None, 1)[0]\n",
    "print(HEAD_WORD)"
   ]
  },
  {
   "cell_type": "markdown",
   "metadata": {},
   "source": [
    "CALCULATE THE MUTUAL DISTANCE BETWEEN THE HEAD-WORD AND EACH OF THE FIRST 2 WORDS OCURRING EITHER ON THE LEFT OR RIGHT HAND SIDE PART OF THE HEAD-WORD:"
   ]
  },
  {
   "cell_type": "code",
   "execution_count": null,
   "metadata": {},
   "outputs": [],
   "source": []
  }
 ],
 "metadata": {
  "kernelspec": {
   "display_name": "Python 3.10.0 64-bit",
   "language": "python",
   "name": "python3"
  },
  "language_info": {
   "codemirror_mode": {
    "name": "ipython",
    "version": 3
   },
   "file_extension": ".py",
   "mimetype": "text/x-python",
   "name": "python",
   "nbconvert_exporter": "python",
   "pygments_lexer": "ipython3",
   "version": "3.10.0"
  },
  "orig_nbformat": 4,
  "vscode": {
   "interpreter": {
    "hash": "dbcefe7cc1b5c8a0efe7bce2a8e6d9d317c4b15f360801b153528886b54c3f98"
   }
  }
 },
 "nbformat": 4,
 "nbformat_minor": 2
}
