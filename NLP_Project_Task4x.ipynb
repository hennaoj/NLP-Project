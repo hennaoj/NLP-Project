{
 "cells": [
  {
   "cell_type": "code",
   "execution_count": 1,
   "id": "6cfa66f1",
   "metadata": {},
   "outputs": [],
   "source": [
    "import nltk\n",
    "from nltk.stem.wordnet import WordNetLemmatizer\n",
    "import re"
   ]
  },
  {
   "cell_type": "code",
   "execution_count": 2,
   "id": "efd25eab",
   "metadata": {},
   "outputs": [],
   "source": [
    "with open('WordNet2/Words.cat', 'r') as file:\n",
    "    data = file.readlines()\n",
    "    nouns = data[25040:94946]\n",
    "    adjectives = data[0:21255]\n",
    "    adverbs = data[21256:25039]\n",
    "    \n",
    "tidy_nouns = []\n",
    "for noun in nouns:\n",
    "    noun = noun.replace(' (1)', '')\n",
    "    noun = noun.replace('\\t', '')\n",
    "    noun = noun.replace('\\n', '')\n",
    "    noun = noun.lower()\n",
    "    tidy_nouns.append(noun)\n",
    "    \n",
    "tidy_adjs = []\n",
    "for adj in adjectives:\n",
    "    adj = adj.replace(' (1)', '')\n",
    "    adj = adj.replace('\\t', '')\n",
    "    adj = adj.replace('\\n', '')\n",
    "    adj = adj.lower()\n",
    "    tidy_adjs.append(adj)\n",
    "    \n",
    "tidy_advs = []\n",
    "for adv in adverbs:\n",
    "    adv = adv.replace(' (1)', '')\n",
    "    adv = adv.replace('\\t', '')\n",
    "    adv = adv.replace('\\n', '')\n",
    "    adv = adv.lower()\n",
    "    tidy_advs.append(adv)\n",
    "\n",
    "def find_classes(word_tagged):\n",
    "    '''\n",
    "    Classifies a word using WordStat. Returns a list of classes the word belongs to.\n",
    "    '''\n",
    "    Lem = WordNetLemmatizer()\n",
    "\n",
    "    current_class = ''\n",
    "    classes = []\n",
    "    \n",
    "    word = Lem.lemmatize(re.sub('\\W+','', word_tagged[0]).lower())\n",
    "    tag = word_tagged[1]\n",
    "    \n",
    "    if tag in ('NN', 'NNS', 'NNPS', 'NNP'):\n",
    "        if tidy_nouns.count(word) > 0:\n",
    "            for noun in tidy_nouns:\n",
    "                #changing the noun class (e.g. when noun.food is encountered, class is 'food' until the next noun\n",
    "                #class is encountered)\n",
    "                if 'noun.' in noun:\n",
    "                    noun_split = noun.split('.')\n",
    "                    current_class = noun_split[1]\n",
    "                elif noun == word and current_class not in classes:\n",
    "                        classes.append(current_class)\n",
    "    elif tag in ('JJ', 'JJR', 'JJS'):\n",
    "        if tidy_adjs.count(word) > 0:\n",
    "            for adj in tidy_adjs:\n",
    "                if 'adj.' in adj:\n",
    "                    adj_split = adj.split('.')\n",
    "                    current_class = adj_split[1]\n",
    "                elif adj == word and current_class not in classes:\n",
    "                        classes.append(current_class)\n",
    "    elif tag in ('RB', 'RBR', 'RBS'):\n",
    "        if tidy_advs.count(word) > 0:\n",
    "            for adv in tidy_advs:\n",
    "                if 'adv.' in adv:\n",
    "                    adv_split = adv.split('.')\n",
    "                    current_class = adv_split[1]\n",
    "                elif adv == word and current_class not in classes:\n",
    "                        classes.append(current_class)\n",
    "    return classes"
   ]
  },
  {
   "cell_type": "code",
   "execution_count": 3,
   "id": "edfea40a",
   "metadata": {},
   "outputs": [],
   "source": [
    "targets = ['JJ', 'JJR', 'JJS', 'RB', 'RBR', 'RBS', 'NN', 'NNS', 'NNPS', 'NNP']\n",
    "\n",
    "def categorize_words(sentence):\n",
    "    tagged_words = nltk.pos_tag(sentence.split())\n",
    "    for word in tagged_words:\n",
    "        if word[1] in targets:\n",
    "            print('Word:', word[0])\n",
    "            print('Categories:', find_classes(word))"
   ]
  },
  {
   "cell_type": "code",
   "execution_count": 4,
   "id": "6dce9dcf",
   "metadata": {},
   "outputs": [
    {
     "name": "stdout",
     "output_type": "stream",
     "text": [
      "Word: beautiful\n",
      "Categories: ['all']\n",
      "Word: dandelions!\n",
      "Categories: ['plant']\n"
     ]
    }
   ],
   "source": [
    "categorize_words('Look at all those beautiful dandelions!')"
   ]
  },
  {
   "cell_type": "code",
   "execution_count": null,
   "id": "81530c38",
   "metadata": {},
   "outputs": [],
   "source": []
  }
 ],
 "metadata": {
  "kernelspec": {
   "display_name": "Python 3 (ipykernel)",
   "language": "python",
   "name": "python3"
  },
  "language_info": {
   "codemirror_mode": {
    "name": "ipython",
    "version": 3
   },
   "file_extension": ".py",
   "mimetype": "text/x-python",
   "name": "python",
   "nbconvert_exporter": "python",
   "pygments_lexer": "ipython3",
   "version": "3.7.0"
  }
 },
 "nbformat": 4,
 "nbformat_minor": 5
}
