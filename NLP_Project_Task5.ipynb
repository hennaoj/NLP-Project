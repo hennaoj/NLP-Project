{
 "cells": [
  {
   "cell_type": "markdown",
   "id": "28bb9511",
   "metadata": {},
   "source": [
    "Task 5 approach so far. Only using a part of the corpus since the runtimes would be too long using the whole 100 million word dataset. Aim of the task is to classify whether an adjective/adverb-noun pair in a sentence is a metaphor or not."
   ]
  },
  {
   "cell_type": "code",
   "execution_count": 1,
   "id": "40b01714",
   "metadata": {},
   "outputs": [],
   "source": [
    "import nltk\n",
    "from nltk.corpus import wordnet as wn\n",
    "from nltk.corpus.reader.bnc import BNCCorpusReader\n",
    "from nltk.stem.wordnet import WordNetLemmatizer\n",
    "import numpy as np\n",
    "from operator import itemgetter\n",
    "import re"
   ]
  },
  {
   "cell_type": "code",
   "execution_count": 12,
   "id": "226ec1e6",
   "metadata": {},
   "outputs": [],
   "source": [
    "#only using folders A-C for now\n",
    "reader = BNCCorpusReader(root='BNC/Texts/', fileids=r'[A-C]/\\w*/\\w*\\.xml')\n",
    "sents = reader.tagged_sents()\n",
    "words = reader.words()"
   ]
  },
  {
   "cell_type": "code",
   "execution_count": 13,
   "id": "5b4b7b80",
   "metadata": {},
   "outputs": [],
   "source": [
    "#some preprocessing (removing special characters and numbers from the list of words and changing all the words into lower case)\n",
    "#runtime would be about 1.5 hours if using the whole corpus, though probably (and hopefully) shorter on a better computer\n",
    "\n",
    "wordlist = []\n",
    "special_chars = ['(',')',',','\"','.','!','?','-','\\'','‘','’','—',':']\n",
    "for w in words:\n",
    "    if w not in special_chars and not w.isnumeric():\n",
    "        wordlist.append(w.lower())"
   ]
  },
  {
   "cell_type": "code",
   "execution_count": 14,
   "id": "e08483de",
   "metadata": {},
   "outputs": [
    {
     "data": {
      "text/plain": [
       "37525438"
      ]
     },
     "execution_count": 14,
     "metadata": {},
     "output_type": "execute_result"
    }
   ],
   "source": [
    "len(wordlist)"
   ]
  },
  {
   "cell_type": "code",
   "execution_count": 31,
   "id": "926eca56",
   "metadata": {},
   "outputs": [],
   "source": [
    "def find_pair(sentence):\n",
    "    '''\n",
    "    Finds adjective/adverb-noun part-of-speech in a given sentence using nltk part-of-speech tagging. \n",
    "    Returns only the first occurence of such pair in a sentence.\n",
    "    '''\n",
    "    pair = []\n",
    "    tagged_words = nltk.pos_tag(sentence.split())\n",
    "    adjectives = ['JJ', 'JJR', 'JJS', 'RB', 'RBR', 'RBS']\n",
    "    nouns = ['NN', 'NNS', 'NNPS', 'NNP']\n",
    "    for i in range(len(tagged_words) - 1):\n",
    "        word1_category = tagged_words[i][1]\n",
    "        word2_category = tagged_words[i + 1][1]\n",
    "        if word1_category in adjectives and word2_category in nouns:\n",
    "            pair = [tagged_words[i][0].lower(), re.sub('\\W+','', tagged_words[i + 1][0]).lower()]\n",
    "            return pair\n",
    "    return pair\n",
    "\n",
    "def check_senses(pair):\n",
    "    '''\n",
    "    Given an adjective/adverb-noun pair checks that the adjective/adverb has more than one sense and the noun has an\n",
    "    entry in WordNet.\n",
    "    '''\n",
    "    adj = pair[0]\n",
    "    noun = pair[1]\n",
    "    if len(wn.synsets(adj)) == 1:\n",
    "        print('Adjective has only one sense!')\n",
    "        return False\n",
    "    elif len(wn.synsets(noun)) == 0:\n",
    "        print('Noun has no entry in WordNet!')\n",
    "        return False\n",
    "    return True\n",
    "\n",
    "def find_words_near(node):\n",
    "    '''\n",
    "    Finds nouns appearing next to a given node word by checking each sentence of the corpus individually.\n",
    "    '''\n",
    "    print('Looking for words appearing next to', node)\n",
    "    words_near = []\n",
    "    for sentence in sents:\n",
    "        for i in range(len(sentence)):\n",
    "            if sentence[i][0] == node:\n",
    "                indexesToTry = [i - 1, i + 1]\n",
    "                for index in indexesToTry:\n",
    "                    if index >= 0 and index < len(sentence):\n",
    "                        if sentence[index][1] and sentence[index][1] == 'SUBST':\n",
    "                            words_near.append(sentence[index][0].lower())\n",
    "    return words_near\n",
    "\n",
    "def find_collocates(node, words_near):\n",
    "    '''\n",
    "    Finds all unique collocate nouns from a list of nouns that appear near the node word. A noun is considered a collocate\n",
    "    when its mutual information to the node is greater or equal to 3. Only considers nouns that appear at least twice\n",
    "    near the node word.\n",
    "    '''\n",
    "    print('Determining the collocates of', node)\n",
    "    collocates = []\n",
    "    checked = []\n",
    "    freq_node = wordlist.count(node)\n",
    "    for word in words_near:\n",
    "        if word not in checked:\n",
    "            checked.append(word)\n",
    "            freq_near = words_near.count(word)\n",
    "            if freq_near >= 2:\n",
    "                freq_collocate = wordlist.count(word)\n",
    "                mutual_information = calculate_mutual_information(freq_node, freq_collocate, freq_near)\n",
    "                if mutual_information >= 3:\n",
    "                    if (word, mutual_information) not in collocates:\n",
    "                        collocates.append((word, mutual_information))\n",
    "    return collocates\n",
    "\n",
    "def calculate_mutual_information(freq_node, freq_collocate, freq_near):\n",
    "    '''\n",
    "    Calculates the mutual information between a node and a possible collocate using the expression (2) in\n",
    "    the article https://journals.plos.org/plosone/article?id=10.1371/journal.pone.0062343 by Neuman et al (2013).\n",
    "    '''\n",
    "    corpus_size = len(wordlist)\n",
    "    span = 3 #maybe?\n",
    "    mutual_information = np.log10((freq_near * corpus_size)/(freq_node * freq_collocate * span))/np.log10(2)\n",
    "    return mutual_information\n",
    "\n",
    "with open('WordNet2/Words.cat', 'r') as file:\n",
    "    data = file.readlines()\n",
    "    nouns = data[25040:94946]\n",
    "    \n",
    "tidy_nouns = []\n",
    "for noun in nouns:\n",
    "    noun = noun.replace(' (1)', '')\n",
    "    noun = noun.replace('\\t', '')\n",
    "    noun = noun.replace('\\n', '')\n",
    "    noun = noun.lower()\n",
    "    tidy_nouns.append(noun)\n",
    "\n",
    "def find_classes(collocates):\n",
    "    '''\n",
    "    Classifies a list of nouns using WordStat. Returns a list of nouns (and their mutual information also given in\n",
    "    the input list) that belong to a concrete class. The list is sorted by the mutual information value in ascending order.\n",
    "    '''\n",
    "    Lem = WordNetLemmatizer()\n",
    "\n",
    "    current_class = ''\n",
    "    classified_nouns = []\n",
    "    \n",
    "    #there should be 13 concrete classes out of the 25 classes, now there is 12 and some might be incorrect :D\n",
    "    concrete_classes = ['ANIMAL', 'ARTIFACT', 'BODY', 'EVENT', 'FOOD', 'LOCATION', 'OBJECT', 'PERSON', 'POSSESSION',\n",
    "                       'PLANT', 'SHAPE', 'SUBSTANCE']\n",
    "\n",
    "    for target in collocates:\n",
    "        if tidy_nouns.count(target) > 0:\n",
    "            for noun in tidy_nouns:\n",
    "                #changing the noun class (e.g. when NOUN.FOOD is encountered, class is FOOD until the next noun\n",
    "                #class is encountered) \n",
    "                if 'NOUN.' in noun:\n",
    "                    noun_split = noun.split('.')\n",
    "                    current_class = noun_split[1]\n",
    "                elif noun == Lem.lemmatize(target[0]) and current_class in concrete_classes:\n",
    "                    #only adding nouns that are not already in the list (some might be in more than one conrete class)\n",
    "                    if (noun, target[1]) not in classified_nouns:\n",
    "                        classified_nouns.append((noun.lower(), target[1]))\n",
    "    #sorting by the mutual information value\n",
    "    classified_nouns = sorted(classified_nouns, key=itemgetter(1))\n",
    "    return classified_nouns\n",
    "\n",
    "def calculate_compatibility(classified_nouns, node):\n",
    "    '''\n",
    "    Calulates the Wu and Palmer semantic similarity\n",
    "    '''\n",
    "    compatible = []\n",
    "    for word in classified_nouns:\n",
    "        syn1 = wn.synsets(word[0])[0]\n",
    "        syn2 = wn.synsets(node)[0]\n",
    "        similarity = syn1.wup_similarity(syn2)\n",
    "        if similarity >= 0.3:\n",
    "            compatible.append(word[0])\n",
    "    return compatible"
   ]
  },
  {
   "cell_type": "code",
   "execution_count": 33,
   "id": "6cc7c2fb",
   "metadata": {},
   "outputs": [],
   "source": [
    "def is_a_metaphor(sentence):\n",
    "    '''\n",
    "    Determines whether a sentence includes a type III metaphor (adjective/adverb-noun metaphor) by going through a set of steps.\n",
    "    '''\n",
    "    pair = find_pair(sentence)\n",
    "    if not pair:\n",
    "        print('No pair!')\n",
    "        return\n",
    "    print('Pair found: ', pair)\n",
    "    \n",
    "    check = check_senses(pair)\n",
    "    if not check:\n",
    "        print('Sense check failed!')\n",
    "        return\n",
    "    print('Sense check ok!')\n",
    "    \n",
    "    adjective = pair[0]\n",
    "    noun = pair[1]\n",
    "    \n",
    "    words_near = find_words_near(adjective)\n",
    "    print('Found', len(words_near), 'nouns near', adjective)\n",
    "    \n",
    "    collocates = find_collocates(adjective, words_near)\n",
    "    print('Found', len(collocates), 'unique collocates')\n",
    "    \n",
    "    if not collocates:\n",
    "        print('Undetermined, not enough collocates')\n",
    "        return\n",
    "    \n",
    "    classified_nouns = find_classes(collocates)\n",
    "    print(len(classified_nouns), 'collocate words in concrete classes')\n",
    "    \n",
    "    if not classified_nouns:\n",
    "        return 'Is a metaphor!'\n",
    "    \n",
    "    compatible = calculate_compatibility(classified_nouns[-4:-1], noun)\n",
    "    print('Out of the top three collocates belonging to concrete classes,', len(compatible), 'are compatible with the noun')\n",
    "    \n",
    "    if compatible:\n",
    "        return 'Not a metaphor!'\n",
    "    return 'Is a metaphor!'"
   ]
  },
  {
   "cell_type": "markdown",
   "id": "5e0ca661",
   "metadata": {},
   "source": [
    "Below are a few example sentences, the counts in the first one are there just to check that the code was running okay and removed from the later test runs. Some phrases are classified correctly, some not. On average it takes about 15 to 20 minutes to run is_a_metaphor() for one sentence, but again the time might be considerably shorter on better computers."
   ]
  },
  {
   "cell_type": "code",
   "execution_count": 21,
   "id": "c59f27ad",
   "metadata": {},
   "outputs": [
    {
     "name": "stdout",
     "output_type": "stream",
     "text": [
      "Pair found:  ['dramatic', 'person']\n",
      "Sense check ok!\n",
      "Looking for words appearing next to dramatic\n",
      "0\n",
      "100000\n",
      "200000\n",
      "300000\n",
      "400000\n",
      "500000\n",
      "600000\n",
      "700000\n",
      "800000\n",
      "900000\n",
      "1000000\n",
      "1100000\n",
      "1200000\n",
      "1300000\n",
      "1400000\n",
      "1500000\n",
      "1600000\n",
      "1700000\n",
      "1800000\n",
      "1900000\n",
      "2000000\n",
      "Found 1299 nouns near dramatic\n",
      "Determining the collocates of dramatic\n",
      "Found 118 unique collocates\n",
      "66 collocate words in concrete classes\n",
      "Out of the top three collocates belonging to concrete classes, 1 are compatible with the noun\n"
     ]
    },
    {
     "data": {
      "text/plain": [
       "'Not a metaphor!'"
      ]
     },
     "execution_count": 21,
     "metadata": {},
     "output_type": "execute_result"
    }
   ],
   "source": [
    "is_a_metaphor('She is such a dramatic person!')"
   ]
  },
  {
   "cell_type": "code",
   "execution_count": 24,
   "id": "50619612",
   "metadata": {},
   "outputs": [
    {
     "name": "stdout",
     "output_type": "stream",
     "text": [
      "Pair found:  ['green', 'thumb']\n",
      "Sense check ok!\n",
      "Looking for words appearing next to green\n",
      "Found 2329 nouns near green\n",
      "Determining the collocates of green\n",
      "Found 172 unique collocates\n",
      "152 collocate words in concrete classes\n",
      "Out of the top three collocates belonging to concrete classes, 0 are compatible with the noun\n"
     ]
    },
    {
     "data": {
      "text/plain": [
       "'Is a metaphor!'"
      ]
     },
     "execution_count": 24,
     "metadata": {},
     "output_type": "execute_result"
    }
   ],
   "source": [
    "is_a_metaphor('He has a green thumb.')"
   ]
  },
  {
   "cell_type": "code",
   "execution_count": 25,
   "id": "c3a6e947",
   "metadata": {},
   "outputs": [
    {
     "name": "stdout",
     "output_type": "stream",
     "text": [
      "Pair found:  ['curious', 'cat']\n",
      "Sense check ok!\n",
      "Looking for words appearing next to curious\n",
      "Found 551 nouns near curious\n",
      "Determining the collocates of curious\n",
      "Found 38 unique collocates\n",
      "21 collocate words in concrete classes\n",
      "Out of the top three collocates belonging to concrete classes, 0 are compatible with the noun\n"
     ]
    },
    {
     "data": {
      "text/plain": [
       "'Is a metaphor!'"
      ]
     },
     "execution_count": 25,
     "metadata": {},
     "output_type": "execute_result"
    }
   ],
   "source": [
    "is_a_metaphor('I have a curious cat who likes to get into trouble.')"
   ]
  },
  {
   "cell_type": "code",
   "execution_count": 26,
   "id": "3bd382bc",
   "metadata": {},
   "outputs": [
    {
     "name": "stdout",
     "output_type": "stream",
     "text": [
      "Pair found:  ['dead', 'center']\n",
      "Sense check ok!\n",
      "Looking for words appearing next to dead\n",
      "Found 1436 nouns near dead\n",
      "Determining the collocates of dead\n",
      "Found 68 unique collocates\n",
      "63 collocate words in concrete classes\n",
      "Out of the top three collocates belonging to concrete classes, 2 are compatible with the noun\n"
     ]
    },
    {
     "data": {
      "text/plain": [
       "'Not a metaphor!'"
      ]
     },
     "execution_count": 26,
     "metadata": {},
     "output_type": "execute_result"
    }
   ],
   "source": [
    "is_a_metaphor('They stood in the dead center of the room.')"
   ]
  },
  {
   "cell_type": "code",
   "execution_count": 36,
   "id": "896cd926",
   "metadata": {},
   "outputs": [
    {
     "name": "stdout",
     "output_type": "stream",
     "text": [
      "Pair found:  ['colourful', 'mind']\n",
      "Sense check ok!\n",
      "Looking for words appearing next to colourful\n",
      "Found 316 nouns near colourful\n",
      "Determining the collocates of colourful\n",
      "Found 36 unique collocates\n",
      "0 collocate words in concrete classes\n"
     ]
    },
    {
     "data": {
      "text/plain": [
       "'Is a metaphor!'"
      ]
     },
     "execution_count": 36,
     "metadata": {},
     "output_type": "execute_result"
    }
   ],
   "source": [
    "is_a_metaphor('Do you have a colourful mind?')"
   ]
  },
  {
   "cell_type": "code",
   "execution_count": null,
   "id": "635768a5",
   "metadata": {},
   "outputs": [],
   "source": []
  }
 ],
 "metadata": {
  "kernelspec": {
   "display_name": "Python 3 (ipykernel)",
   "language": "python",
   "name": "python3"
  },
  "language_info": {
   "codemirror_mode": {
    "name": "ipython",
    "version": 3
   },
   "file_extension": ".py",
   "mimetype": "text/x-python",
   "name": "python",
   "nbconvert_exporter": "python",
   "pygments_lexer": "ipython3",
   "version": "3.7.0"
  }
 },
 "nbformat": 4,
 "nbformat_minor": 5
}
