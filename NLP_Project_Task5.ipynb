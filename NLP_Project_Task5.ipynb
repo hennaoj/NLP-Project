{
 "cells": [
  {
   "cell_type": "markdown",
   "id": "28bb9511",
   "metadata": {},
   "source": [
    "Implementation for Task 5. Only using a part of the corpus since the runtimes would be too long using the whole 100 million word dataset. Aim of the task is to classify whether an adjective/adverb-noun pair in a sentence is a metaphor or not. The procedure of task 5 is also used as a base for the later tasks."
   ]
  },
  {
   "cell_type": "code",
   "execution_count": 3,
   "id": "40b01714",
   "metadata": {},
   "outputs": [],
   "source": [
    "import nltk\n",
    "from nltk.corpus import wordnet as wn\n",
    "from nltk.corpus.reader.bnc import BNCCorpusReader\n",
    "from nltk.stem.wordnet import WordNetLemmatizer\n",
    "import numpy as np\n",
    "from operator import itemgetter\n",
    "import re"
   ]
  },
  {
   "cell_type": "code",
   "execution_count": 4,
   "id": "226ec1e6",
   "metadata": {},
   "outputs": [],
   "source": [
    "#only using folders A-C for now\n",
    "reader = BNCCorpusReader(root='BNC/Texts/', fileids=r'[A-C]/\\w*/\\w*\\.xml')"
   ]
  },
  {
   "cell_type": "code",
   "execution_count": 5,
   "id": "2bb10b75",
   "metadata": {},
   "outputs": [],
   "source": [
    "'''Casting reader output to list. For some reason,\n",
    "this makes all other processing to go tens of times faster.\n",
    "The downside is that the casting takes significant amount of time,\n",
    "but it has to be done only once.'''\n",
    "\n",
    "#Runtime with CPU Ryzen 5 5600X ~12 minutes\n",
    "sents = list(reader.tagged_sents())"
   ]
  },
  {
   "cell_type": "code",
   "execution_count": 6,
   "id": "aa5b7b62",
   "metadata": {},
   "outputs": [],
   "source": [
    "#Runtime with CPU Ryzen 5 5600X ~12 minutes\n",
    "words = list(reader.words())"
   ]
  },
  {
   "cell_type": "code",
   "execution_count": 7,
   "id": "5b4b7b80",
   "metadata": {},
   "outputs": [],
   "source": [
    "#some preprocessing (removing special characters and numbers from the list of words and changing all the words into lower case)\n",
    "#runtime would be about 1.5 hours if using the whole corpus, though probably (and hopefully) shorter on a better computer\n",
    "\n",
    "wordlist = []\n",
    "special_chars = ['(',')',',','\"','.','!','?','-','\\'','‘','’','—',':']\n",
    "for w in words:\n",
    "    if w not in special_chars and not w.isnumeric():\n",
    "        wordlist.append(w.lower())"
   ]
  },
  {
   "cell_type": "code",
   "execution_count": 8,
   "id": "e08483de",
   "metadata": {},
   "outputs": [
    {
     "data": {
      "text/plain": [
       "37525438"
      ]
     },
     "execution_count": 8,
     "metadata": {},
     "output_type": "execute_result"
    }
   ],
   "source": [
    "len(wordlist)"
   ]
  },
  {
   "cell_type": "code",
   "execution_count": 9,
   "id": "e087fb7b",
   "metadata": {},
   "outputs": [],
   "source": [
    "from nltk import FreqDist\n",
    "freqDist = FreqDist(wordlist)"
   ]
  },
  {
   "cell_type": "code",
   "execution_count": 14,
   "id": "926eca56",
   "metadata": {},
   "outputs": [],
   "source": [
    "def find_pair(sentence):\n",
    "    '''\n",
    "    Finds adjective/adverb-noun part-of-speech in a given sentence using nltk part-of-speech tagging. \n",
    "    Returns only the first occurence of such pair in a sentence.\n",
    "    '''\n",
    "    pair = []\n",
    "    tagged_words = nltk.pos_tag(sentence.split())\n",
    "    adjectives = ['JJ', 'JJR', 'JJS', 'RB', 'RBR', 'RBS']\n",
    "    nouns = ['NN', 'NNS', 'NNPS', 'NNP']\n",
    "    for i in range(len(tagged_words) - 1):\n",
    "        word1_category = tagged_words[i][1]\n",
    "        word2_category = tagged_words[i + 1][1]\n",
    "        if word1_category in adjectives and word2_category in nouns:\n",
    "            pair = [tagged_words[i][0].lower(), re.sub('\\W+','', tagged_words[i + 1][0]).lower()]\n",
    "            return pair\n",
    "    return pair\n",
    "\n",
    "def check_senses(pair):\n",
    "    '''\n",
    "    Given an adjective/adverb-noun pair checks that the adjective/adverb has more than one sense and the noun has an\n",
    "    entry in WordNet.\n",
    "    '''\n",
    "    adj = pair[0]\n",
    "    noun = pair[1]\n",
    "    if len(wn.synsets(adj)) == 1:\n",
    "        print('Adjective has only one sense!')\n",
    "        return 2\n",
    "    elif len(wn.synsets(noun)) == 0:\n",
    "        print('Noun has no entry in WordNet!')\n",
    "        return 3\n",
    "    return True\n",
    "\n",
    "def find_words_near(node):\n",
    "    '''\n",
    "    Finds nouns appearing next to a given node word by checking each sentence of the corpus individually.\n",
    "    '''\n",
    "    print('Looking for words appearing next to', node)\n",
    "    words_near = []\n",
    "    for sentence in sents:\n",
    "        for i in range(len(sentence)):\n",
    "            if sentence[i][0] == node:\n",
    "                indexesToTry = [i - 1, i + 1]\n",
    "                for index in indexesToTry:\n",
    "                    if index >= 0 and index < len(sentence):\n",
    "                        if sentence[index][1] and sentence[index][1] == 'SUBST':\n",
    "                            words_near.append(sentence[index][0].lower())\n",
    "    return words_near\n",
    "\n",
    "def find_collocates(node, words_near):\n",
    "    '''\n",
    "    Finds all unique collocate nouns from a list of nouns that appear near the node word. A noun is considered a collocate\n",
    "    when its mutual information to the node is greater or equal to 3. Only considers nouns that appear at least twice\n",
    "    near the node word.\n",
    "    '''\n",
    "    print('Determining the collocates of', node)\n",
    "    collocates = []\n",
    "    checked = []\n",
    "    freq_node = freqDist[node]\n",
    "    for word in words_near:\n",
    "        if word not in checked:\n",
    "            checked.append(word)\n",
    "            freq_near = words_near.count(word)\n",
    "            if freq_near >= 2:\n",
    "                freq_collocate = freqDist[word]\n",
    "                mutual_information = calculate_mutual_information(freq_node, freq_collocate, freq_near)\n",
    "                if mutual_information >= 3:\n",
    "                    if (word, mutual_information) not in collocates:\n",
    "                        collocates.append((word, mutual_information))\n",
    "    return collocates\n",
    "\n",
    "def calculate_mutual_information(freq_node, freq_collocate, freq_near):\n",
    "    '''\n",
    "    Calculates the mutual information between a node and a possible collocate using the expression (2) in\n",
    "    the article https://journals.plos.org/plosone/article?id=10.1371/journal.pone.0062343 by Neuman et al (2013).\n",
    "    '''\n",
    "    corpus_size = len(wordlist)\n",
    "    span = 2 # span = 2 * lexical window\n",
    "    mutual_information = np.log10((freq_near * corpus_size)/(freq_node * freq_collocate * span))/np.log10(2)\n",
    "    return mutual_information\n",
    "\n",
    "with open('WordNet2/Words.cat', 'r') as file:\n",
    "    data = file.readlines()\n",
    "    nouns = data[25040:94946]\n",
    "    \n",
    "#tidying the noun categorization data\n",
    "tidy_nouns = []\n",
    "for noun in nouns:\n",
    "    noun = noun.replace(' (1)', '')\n",
    "    noun = noun.replace('\\t', '')\n",
    "    noun = noun.replace('\\n', '')\n",
    "    noun = noun.lower()\n",
    "    tidy_nouns.append(noun)\n",
    "\n",
    "def find_classes(collocates):\n",
    "    '''\n",
    "    Classifies a list of nouns using WordStat. Returns a list of nouns (and their mutual information also given in\n",
    "    the input list) that belong to a concrete class. The list is sorted by the mutual information value in ascending order.\n",
    "    '''\n",
    "    Lem = WordNetLemmatizer()\n",
    "\n",
    "    current_class = ''\n",
    "    classified_nouns = []\n",
    "    \n",
    "    #there should be 13 concrete classes out of the 25 noun classes\n",
    "    concrete_classes = ['animal', 'artifact', 'body', 'event', 'food', 'group', 'location', 'object', 'person', 'possession',\n",
    "                       'plant', 'shape', 'substance']\n",
    "\n",
    "    for target in collocates:\n",
    "        if tidy_nouns.count(target[0]) > 0:\n",
    "            for noun in tidy_nouns:\n",
    "                #changing the noun class (e.g. when NOUN.FOOD is encountered, class is FOOD until the next noun\n",
    "                #class is encountered)\n",
    "                if 'noun.' in noun:\n",
    "                    noun_split = noun.split('.')\n",
    "                    current_class = noun_split[1]\n",
    "                elif noun == Lem.lemmatize(target[0]) and current_class in concrete_classes:\n",
    "                    #only adding nouns that are not already in the list (some might be in more than one conrete class)\n",
    "                    if (noun, target[1]) not in classified_nouns:\n",
    "                        classified_nouns.append((noun, target[1]))\n",
    "    #sorting by the mutual information value\n",
    "    classified_nouns = sorted(classified_nouns, key=itemgetter(1))\n",
    "    return classified_nouns\n",
    "\n",
    "def calculate_compatibility(classified_nouns, node):\n",
    "    '''\n",
    "    Calulates the Wu and Palmer semantic similarity between a node noun and a list of nouns.\n",
    "    '''\n",
    "    compatible = []\n",
    "    for word in classified_nouns:\n",
    "        syn1 = wn.synsets(word[0])[0]\n",
    "        syn2 = wn.synsets(node)[0]\n",
    "        similarity = syn1.wup_similarity(syn2)\n",
    "        if similarity >= 0.3:\n",
    "            compatible.append(word[0])\n",
    "    return compatible"
   ]
  },
  {
   "cell_type": "code",
   "execution_count": 15,
   "id": "6cc7c2fb",
   "metadata": {},
   "outputs": [],
   "source": [
    "def is_a_metaphor(sentence):\n",
    "    '''\n",
    "    Determines whether a sentence includes a type III metaphor (adjective/adverb-noun metaphor) by going through a set of steps.\n",
    "    '''\n",
    "    pair = find_pair(sentence)\n",
    "    if not pair:\n",
    "        print('No pair!')\n",
    "        return\n",
    "    print('Pair found: ', pair)\n",
    "        \n",
    "    adjective = pair[0]\n",
    "    noun = pair[1]\n",
    "    \n",
    "    check = check_senses(pair)\n",
    "    if check == 2:\n",
    "        print(adjective, noun, 'is not a metaphore')\n",
    "        return False\n",
    "    elif check == 3:\n",
    "        return 'Result is unknown'\n",
    "    \n",
    "    words_near = find_words_near(adjective)\n",
    "    \n",
    "    collocates = find_collocates(adjective, words_near)\n",
    "    print('Found', len(collocates), 'unique collocates')\n",
    "    \n",
    "    if not collocates:\n",
    "        print('No collocates found')\n",
    "        return 'Result is unknown'\n",
    "\n",
    "    classified_nouns = find_classes(collocates)\n",
    "    print(len(classified_nouns), 'collocate words appear in concrete classes')\n",
    "    \n",
    "    if not classified_nouns:\n",
    "        print(adjective, noun, 'is a metaphore')\n",
    "        return True\n",
    "    \n",
    "    top_three = classified_nouns[-3:]\n",
    "    print('The top three collocates are', top_three)\n",
    "    \n",
    "    compatible = calculate_compatibility(top_three, noun)\n",
    "    print('Out of the top three collocates belonging to concrete classes,', len(compatible), 'are compatible with the noun')\n",
    "    \n",
    "    if compatible:\n",
    "        print(adjective, noun, 'is not a metaphore')\n",
    "        return False\n",
    "    print(adjective, noun, 'is a metaphore')\n",
    "    return True"
   ]
  },
  {
   "cell_type": "markdown",
   "id": "5e0ca661",
   "metadata": {},
   "source": [
    "Below are a few example sentences. Most of the test phrases are classified correctly, but the phrase 'dead center' is classified incorrectly."
   ]
  },
  {
   "cell_type": "code",
   "execution_count": 16,
   "id": "c59f27ad",
   "metadata": {},
   "outputs": [
    {
     "name": "stdout",
     "output_type": "stream",
     "text": [
      "Pair found:  ['dramatic', 'person']\n",
      "Looking for words appearing next to dramatic\n",
      "Determining the collocates of dramatic\n",
      "Found 141 unique collocates\n",
      "57 collocate words appear in concrete classes\n",
      "The top three collocates are [('skyline', 7.286312210033967), ('scenery', 8.366340591449612), ('turnaround', 8.73769155637653)]\n",
      "Out of the top three collocates belonging to concrete classes, 2 are compatible with the noun\n",
      "dramatic person is not a metaphore\n"
     ]
    },
    {
     "data": {
      "text/plain": [
       "False"
      ]
     },
     "execution_count": 16,
     "metadata": {},
     "output_type": "execute_result"
    }
   ],
   "source": [
    "is_a_metaphor('She is such a dramatic person!')"
   ]
  },
  {
   "cell_type": "code",
   "execution_count": 17,
   "id": "50619612",
   "metadata": {},
   "outputs": [
    {
     "name": "stdout",
     "output_type": "stream",
     "text": [
      "Pair found:  ['green', 'thumb']\n",
      "Looking for words appearing next to green\n",
      "Determining the collocates of green\n",
      "Found 203 unique collocates\n",
      "132 collocate words appear in concrete classes\n",
      "The top three collocates are [('sward', 8.68512566908715), ('malachite', 9.872211221687644), ('baize', 9.944619717215694)]\n",
      "Out of the top three collocates belonging to concrete classes, 0 are compatible with the noun\n",
      "green thumb is a metaphore\n"
     ]
    },
    {
     "data": {
      "text/plain": [
       "True"
      ]
     },
     "execution_count": 17,
     "metadata": {},
     "output_type": "execute_result"
    }
   ],
   "source": [
    "is_a_metaphor('He has a green thumb.')"
   ]
  },
  {
   "cell_type": "code",
   "execution_count": 18,
   "id": "c3a6e947",
   "metadata": {},
   "outputs": [
    {
     "name": "stdout",
     "output_type": "stream",
     "text": [
      "Pair found:  ['curious', 'cat']\n",
      "Looking for words appearing next to curious\n",
      "Determining the collocates of curious\n",
      "Found 53 unique collocates\n",
      "25 collocate words appear in concrete classes\n",
      "The top three collocates are [('traveller', 6.581917043277252), ('mixture', 7.392994339811771), ('coincidence', 8.600964498014095)]\n",
      "Out of the top three collocates belonging to concrete classes, 1 are compatible with the noun\n",
      "curious cat is not a metaphore\n"
     ]
    },
    {
     "data": {
      "text/plain": [
       "False"
      ]
     },
     "execution_count": 18,
     "metadata": {},
     "output_type": "execute_result"
    }
   ],
   "source": [
    "is_a_metaphor('I have a curious cat who likes to get into trouble.')"
   ]
  },
  {
   "cell_type": "code",
   "execution_count": 19,
   "id": "3bd382bc",
   "metadata": {},
   "outputs": [
    {
     "name": "stdout",
     "output_type": "stream",
     "text": [
      "Pair found:  ['dead', 'center']\n",
      "Looking for words appearing next to dead\n",
      "Determining the collocates of dead\n",
      "Found 93 unique collocates\n",
      "54 collocate words appear in concrete classes\n",
      "The top three collocates are [('magpie', 8.682252979315605), ('aspidistra', 9.438486907186588), ('ringer', 10.356024746994615)]\n",
      "Out of the top three collocates belonging to concrete classes, 2 are compatible with the noun\n",
      "dead center is not a metaphore\n"
     ]
    },
    {
     "data": {
      "text/plain": [
       "False"
      ]
     },
     "execution_count": 19,
     "metadata": {},
     "output_type": "execute_result"
    }
   ],
   "source": [
    "is_a_metaphor('They stood in the dead center of the room.')"
   ]
  },
  {
   "cell_type": "code",
   "execution_count": 20,
   "id": "23a8a744",
   "metadata": {},
   "outputs": [
    {
     "name": "stdout",
     "output_type": "stream",
     "text": [
      "Pair found:  ['cold', 'heart']\n",
      "Looking for words appearing next to cold\n",
      "Determining the collocates of cold\n",
      "Found 98 unique collocates\n",
      "55 collocate words appear in concrete classes\n",
      "The top three collocates are [('chisel', 7.92888218876678), ('lino', 8.117327278179891), ('compress', 8.422576631920624)]\n",
      "Out of the top three collocates belonging to concrete classes, 0 are compatible with the noun\n",
      "cold heart is a metaphore\n"
     ]
    },
    {
     "data": {
      "text/plain": [
       "True"
      ]
     },
     "execution_count": 20,
     "metadata": {},
     "output_type": "execute_result"
    }
   ],
   "source": [
    "is_a_metaphor('He has a cold heart.')"
   ]
  },
  {
   "cell_type": "code",
   "execution_count": null,
   "id": "e5c3c994",
   "metadata": {},
   "outputs": [],
   "source": []
  }
 ],
 "metadata": {
  "kernelspec": {
   "display_name": "Python 3 (ipykernel)",
   "language": "python",
   "name": "python3"
  },
  "language_info": {
   "codemirror_mode": {
    "name": "ipython",
    "version": 3
   },
   "file_extension": ".py",
   "mimetype": "text/x-python",
   "name": "python",
   "nbconvert_exporter": "python",
   "pygments_lexer": "ipython3",
   "version": "3.7.0"
  }
 },
 "nbformat": 4,
 "nbformat_minor": 5
}
