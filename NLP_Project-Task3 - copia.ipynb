{
 "cells": [
  {
   "cell_type": "markdown",
   "metadata": {},
   "source": [
    "WRITE A PROGRAM THAT IMPUTS EACH SENTENCE OF THE ANNOTATED CORPUS:"
   ]
  },
  {
   "cell_type": "code",
   "execution_count": null,
   "metadata": {},
   "outputs": [],
   "source": [
    "import urllib.request  # the lib that handles the url stuff\n",
    "\n",
    "for line in urllib.request.urlopen('https://www.eecs.uottawa.ca/~diana/resources/metaphor/type1_metaphor_annotated.txt'):\n",
    "    print(line.decode('utf-8')) #utf-8 or iso8859-1 or whatever the page encoding scheme is"
   ]
  },
  {
   "cell_type": "markdown",
   "metadata": {},
   "source": [
    "READ THE HEAD WPRD(GIVEN IN THE ANNOTATION):"
   ]
  },
  {
   "cell_type": "code",
   "execution_count": 51,
   "metadata": {},
   "outputs": [
    {
     "name": "stdout",
     "output_type": "stream",
     "text": [
      "poise\n"
     ]
    }
   ],
   "source": [
    "HEAD_WORD = text.split(None, 1)[0]\n",
    "print(HEAD_WORD)"
   ]
  },
  {
   "cell_type": "markdown",
   "metadata": {},
   "source": [
    "CALCULATE THE MUTUAL DISTANCE BETWEEN THE HEAD-WORD AND EACH OF THE FIRST 2 WORDS OCURRING EITHER ON THE LEFT OR RIGHT HAND SIDE PART OF THE HEAD-WORD:"
   ]
  },
  {
   "cell_type": "code",
   "execution_count": null,
   "metadata": {},
   "outputs": [],
   "source": [
   "emptyList = []"
   "with open(filename, "r", encoding = "utf-8") as fname:"
   "for lines in fname:"
   "emptyList.append(lines.split())"
   "print(emptyList)"

   "#for i in emptyList:"
   "#    i = 0"
   "#    print(emptyList[i])"
   "#    i = i+1"

   "# function that takes the last word of a sentence"
   "def lastWord(string):"
    " # split by space and converting"
    " # string to list and"
    " i = 0 "
    " l = list(string[0].split(" "))"
   
    " # length of list"
    " length = len(l)"

    " # returning last element in list"
    " return l[length-1]"

" lastWordOfSentence0 = lastWord(emptyList[0])"
" print(lastWordOfSentence0)]"
  }
 ],
 "metadata": {
  "kernelspec": {
   "display_name": "Python 3.10.0 64-bit",
   "language": "python",
   "name": "python3"
  },
  "language_info": {
   "codemirror_mode": {
    "name": "ipython",
    "version": 3
   },
   "file_extension": ".py",
   "mimetype": "text/x-python",
   "name": "python",
   "nbconvert_exporter": "python",
   "pygments_lexer": "ipython3",
   "version": "3.10.0"
  },
  "orig_nbformat": 4,
  "vscode": {
   "interpreter": {
    "hash": "dbcefe7cc1b5c8a0efe7bce2a8e6d9d317c4b15f360801b153528886b54c3f98"
   }
  }
 },
 "nbformat": 4,
 "nbformat_minor": 2
}
