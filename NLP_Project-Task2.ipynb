{
 "cells": [
  {
   "cell_type": "markdown",
   "metadata": {},
   "source": [
    "Task 2\n",
    "=======\n",
    "\n",
    "Consider the mutual information, see expression (2) in _Neuman et al.’2003_ paper, as a guideline to derive the metaphor-reasoning.  You may help with other available implementations of mutual information, in [Collocations (nltk.org)](https://www.nltk.org/howto/collocations.html), [FNLP 2011: Tutorial 8: Working with corpora: mutual information (ed.ac.uk)](http://www.inf.ed.ac.uk/teaching/courses/fnlp/lectures/8/tutorial.html). Consider the words “man”, “sky”, “life”, “love”, “hate”. Write a program that identifies all adjectives, adverbs and verbs that occur within 3 lexical units (span = 3 in the formula of mutual information) in British national corpus and whose mutual information is equal or greater than 3, considered as the minimum statistical significance.\n",
    "\n",
    "Run time estimates written in comments are run with Ryzen 5 5600X, and may take longer with slower computers, for example laptops."
   ]
  },
  {
   "cell_type": "code",
   "execution_count": null,
   "metadata": {},
   "outputs": [],
   "source": [
    "import nltk\n",
    "import math\n",
    "from nltk.corpus.reader.bnc import BNCCorpusReader\n",
    "from nltk import FreqDist\n",
    "import matplotlib.pyplot as plt\n",
    "import pickle"
   ]
  },
  {
   "cell_type": "code",
   "execution_count": null,
   "metadata": {},
   "outputs": [],
   "source": [
    "#Data structure for storing info of a collocate word\n",
    "class CollocateWord:\n",
    "    \n",
    "    def __init__(self, collocate):\n",
    "        self.collocate = collocate\n",
    "        #Frequency of how often collocate word is found with word of interest\n",
    "        self.collocateFrequency = 1\n",
    "        #Will be calculated later with method call\n",
    "        self.mutualInformation = None\n",
    "        #Words count in corpus. Will be set later with method call\n",
    "        self.corpusFrequency = None\n",
    "        #Is the word positioned before of after the parent word in a sentence\n",
    "        self.position = None #Not used yet\n",
    "\n",
    "    def getWord(self):\n",
    "        return self.collocate\n",
    "\n",
    "    #Called in main each time the same word is found again\n",
    "    def updateFrequency(self):\n",
    "        self.collocateFrequency += 1\n",
    "\n",
    "    def printMe(self):\n",
    "        print(\"Collocate word: \" + self.collocate)\n",
    "        print(\"Frequency with parent word: \" + str(self.collocateFrequency))\n",
    "        print(\"Frequency in corpus: \" + str(self.corpusFrequency))\n",
    "        print(\"MI score: \" + str(self.mutualInformation))\n",
    "\n",
    "    def setMutualInformation(self, MI):\n",
    "        self.mutualInformation = MI\n",
    "\n",
    "    def setCorpusFrequency(self, freq):\n",
    "        self.corpusFrequency = freq"
   ]
  },
  {
   "cell_type": "code",
   "execution_count": null,
   "metadata": {},
   "outputs": [],
   "source": [
    "#Data structure and logic for word under search and its collocates\n",
    "class MutualInformationCalculator:\n",
    "    \n",
    "    def __init__(self, word, corpusSentences, corpusWords, span, sizeOfCorpus, freqDistribution):\n",
    "        self.word = word\n",
    "        self.frequency = 0\n",
    "        self.collocates = []\n",
    "        self.corpusSentences = corpusSentences\n",
    "        self.corpusWords = corpusWords\n",
    "        self.span = span\n",
    "        self.sizeOfCorpus = sizeOfCorpus\n",
    "        self.freqDistribution = freqDistribution\n",
    "\n",
    "    def findCollocates(self):\n",
    "        '''Find all collocate words around the word of interest'''    \n",
    "        for sentence in self.corpusSentences:\n",
    "            l_sentence = [(word_tuple[0].lower(), word_tuple[1] )for word_tuple in sentence]\n",
    "            #if(l_sentence[0].count(self.word) == 0):\n",
    "            #    continue\n",
    "            #Should we remove stop words from search? Should be done here, at latest.\n",
    "            for index, word in enumerate(l_sentence):\n",
    "                #print(word[0].lower())\n",
    "                #print(index)\n",
    "                if word[0] == self.word:\n",
    "                    self.updateFrequency()\n",
    "                    self.findSpanningCollocations(l_sentence, index)\n",
    "    \n",
    "    def findSpanningCollocations(self, sentence, startingIndex,):\n",
    "        '''When words of interest is found in the sentence, the sentence and index is passed here to find collocate words\n",
    "        and updateCollocates is called for valid words to save them'''\n",
    "        listOfIndexes = []\n",
    "        #Assuming that the span = 3 in the task description actually means windows size instead, check only adjacent indexes.\n",
    "        #  CURRENTLY FIXED WINDOW SIZE = 3\n",
    "        indexesToTry = [startingIndex - 1, startingIndex + 1]\n",
    "        for index in indexesToTry:\n",
    "            if index >= 0 and index < len(sentence):\n",
    "                word, wordType = sentence[index]\n",
    "                #program should indentify only adjectives, adverbs and verbs\n",
    "                if wordType == 'ADJ' or wordType == 'ADV' or wordType == \"VERB\":\n",
    "                    self.updateCollocates(word)\n",
    "\n",
    "    def updateCollocates(self, collocateWord):\n",
    "        '''Checks if collocate is new to append it to list or to just update existing frequency'''\n",
    "        #Check if collocate list is empty\n",
    "        if self.collocates:\n",
    "            for collocate in self.collocates:\n",
    "                if collocate.getWord() == collocateWord:\n",
    "                    collocate.updateFrequency()\n",
    "                    return\n",
    "                    \n",
    "            self.collocates.append(CollocateWord(collocateWord))\n",
    "        else:\n",
    "            self.collocates.append(CollocateWord(collocateWord))\n",
    "    \n",
    "    #Used while searching collocate words.\n",
    "    def updateFrequency(self):\n",
    "        self.frequency += 1\n",
    "\n",
    "    def calculateCollocateFrequencies(self):\n",
    "        #Set the frequency in corpus for every collocate word\n",
    "        for collocate in self.collocates:\n",
    "            collocate.setCorpusFrequency(self.freqDistribution[collocate.getWord()])\n",
    "            \n",
    "\n",
    "    def printMe(self):\n",
    "        print(\"Word of interest: \" + self.word)\n",
    "        print(\"Frequncy in corpus: \" + str(self.frequency))\n",
    "        print(\"Collocate words found: \" + str(len(self.collocates)))\n",
    "\n",
    "    def printCollocates(self):\n",
    "        for collocate in self.collocates:\n",
    "            collocate.printMe()\n",
    "\n",
    "    def getCollocates(self):\n",
    "        return self.collocates\n",
    "\n",
    "    def calculateMutualInformations(self):\n",
    "        '''Calculate MI for all collocate words. Requires that frequencies are calculated before running this.'''\n",
    "        for collocate in self.collocates:\n",
    "            MI = math.log10(( (collocate.collocateFrequency * self.sizeOfCorpus) / (self.frequency * collocate.corpusFrequency * self.span) ))\n",
    "            MI = MI / math.log10(2)\n",
    "            collocate.setMutualInformation(MI)\n",
    "\n",
    "    def calculateAll(self):\n",
    "        '''Does all calculation steps in one command.'''\n",
    "        self.findCollocates()\n",
    "        self.calculateCollocateFrequencies()\n",
    "        self.calculateMutualInformations()\n",
    "        self.removeCollocatesBelowFrequency(2)\n",
    "        self.removeCollocatesBelowMI(3)\n",
    "\n",
    "    def getCollacatesOverMiValue(self, limit):\n",
    "        '''Return a list of collocates above wanted MI value'''\n",
    "        return [collocate for collocate in self.collocates if (collocate.mutualInformation >= limit)]\n",
    "\n",
    "    def getCollocatesOverFrequency(self, limit):\n",
    "        return [collocate for collocate in self.collocates if (collocate.collocateFrequency >= limit)]\n",
    "\n",
    "    def removeCollocatesBelowFrequency(self, limitFrequency):\n",
    "        '''Remove collocates from object whose frequency with word of interest is lower than given limit.'''\n",
    "        self.collocates[:] = [collocate for collocate in self.collocates if (collocate.collocateFrequency >= limitFrequency)]\n",
    "\n",
    "    def removeCollocatesBelowMI(self, limitMI):\n",
    "        self.collocates[:] = [collocate for collocate in self.collocates if (collocate.mutualInformation >= limitMI)]\n",
    "\n",
    "    def sortCollocatesByFrequency(self):\n",
    "        self.collocates.sort(key=lambda collocate: collocate.collocateFrequency, reverse=True)\n",
    "\n",
    "    def sortCollocatesByMIscore(self):\n",
    "        self.collocates.sort(key=lambda collocate: collocate.mutualInformation, reverse=True)\n",
    "\n",
    "    def plotFrequencyFigure(self, xSize, ySize):\n",
    "        miLim = 3\n",
    "        fLim = 2\n",
    "        #self.sortCollocatesByFrequency()\n",
    "        words = [c.collocate for c in self.collocates]\n",
    "        freqs = [c.collocateFrequency for c in self.collocates]\n",
    "        fig, ax = plt.subplots(figsize = (xSize, ySize))\n",
    "        ax.set_ylabel('Mutual frequency', fontsize=15)\n",
    "        ax.set_title('Frequency of adjacent words from \\'' + self.word + '\\' with MI score >= ' + str(miLim) + ' and mutual frequency >= ' + str(fLim) + ')')\n",
    "        ax.barh(words, freqs)\n",
    "        plt.show()\n",
    "\n",
    "    def plotMiFigure(self, xSize, ySize):\n",
    "        miLim = 3\n",
    "        fLim = 2\n",
    "        self.sortCollocatesByMIscore()\n",
    "        words = [c.collocate for c in self.collocates]\n",
    "        mi_score = [c.mutualInformation for c in self.collocates]\n",
    "        fig, ax = plt.subplots(figsize = (xSize, ySize))\n",
    "        ax.set_ylabel('Mutual Information score', fontsize=15)\n",
    "        ax.set_title('Mutual information score over ' + str(miLim) + ' with a word \\'' + self.word + '\\' and mutual frequency >= ' + str(fLim) + ')')\n",
    "        ax.barh(words, mi_score)\n",
    "        plt.show()\n",
    "\n",
    "    def plotPresentationFigures(self):\n",
    "        '''Plots only 25 top MI collocates, removes others'''\n",
    "        self.collocates = self.collocates[:25]\n",
    "        self.plotMiFigure(5,5)\n",
    "        self.plotFrequencyFigure(5,5)\n",
    "\n",
    "    "
   ]
  },
  {
   "cell_type": "code",
   "execution_count": null,
   "metadata": {},
   "outputs": [],
   "source": [
    "#Read the British National Corpus from folder BNC/Texts. This need to be downloaded and exctracted separately from internet.\n",
    "#reader = BNCCorpusReader(root='BNC/Texts/', fileids=r'[A]/\\w*/\\w*\\.xml')\n",
    "#We want to stay in the context of one sentence when discovering mutual information (and methaphores), so we will read sentences from the corpus.\n",
    "#For some reason, the senctences include only 15 million words of the total 100 million.\n",
    "#sentences = reader.tagged_sents()\n",
    "\n",
    "with open('sentsFull.pkl', 'rb') as input:\n",
    "    sentences = pickle.load(input)\n",
    "#Defining the span (windows size) of the search\n",
    "#Currently this needs to be fixed to 2\n",
    "span = 2"
   ]
  },
  {
   "cell_type": "code",
   "execution_count": null,
   "metadata": {},
   "outputs": [],
   "source": [
    "#Run time ~4 min\n",
    "\n",
    "#We'll also read words for calculating frequency of all words in the corpus (+ size of corpus)\n",
    "#words = reader.words()\n",
    "\n",
    "with open('wordsFull.pkl', 'rb') as input:\n",
    "    words = pickle.load(input)\n",
    "#We want decapitalize words for easier handling\n",
    "lower_words = [word.lower() for word in words]\n",
    "sizeOfCorpus = len(lower_words)"
   ]
  },
  {
   "cell_type": "code",
   "execution_count": null,
   "metadata": {},
   "outputs": [],
   "source": [
    "#Calculate frequencies for all the words in corpus\n",
    "fdist = FreqDist(lower_words)"
   ]
  },
  {
   "cell_type": "markdown",
   "metadata": {},
   "source": [
    "To show example and see run time, we run all steps for word 'man' separately."
   ]
  },
  {
   "cell_type": "code",
   "execution_count": null,
   "metadata": {},
   "outputs": [],
   "source": [
    "#Creating the calculator object\n",
    "man = MutualInformationCalculator('man', sentences, lower_words, span, sizeOfCorpus, fdist)\n"
   ]
  },
  {
   "cell_type": "code",
   "execution_count": null,
   "metadata": {},
   "outputs": [],
   "source": [
    "#Run time ~2 min \n",
    "man.findCollocates()"
   ]
  },
  {
   "cell_type": "code",
   "execution_count": null,
   "metadata": {},
   "outputs": [],
   "source": [
    "man.calculateCollocateFrequencies()"
   ]
  },
  {
   "cell_type": "code",
   "execution_count": null,
   "metadata": {},
   "outputs": [],
   "source": [
    "man.calculateMutualInformations()"
   ]
  },
  {
   "cell_type": "code",
   "execution_count": null,
   "metadata": {},
   "outputs": [],
   "source": [
    "man.printMe()"
   ]
  },
  {
   "cell_type": "code",
   "execution_count": null,
   "metadata": {},
   "outputs": [],
   "source": [
    "#We cannot make too strong conclusions from words with low frequency with the word of interest.\n",
    "man.removeCollocatesBelowFrequency(2)\n",
    "#Task defined minimum mutual information of 3 to be found\n",
    "man.removeCollocatesBelowMI(3)\n",
    "man.printMe()"
   ]
  },
  {
   "cell_type": "code",
   "execution_count": null,
   "metadata": {},
   "outputs": [],
   "source": [
    "man.plotFrequencyFigure(10,25)\n",
    "man.plotMiFigure(10,25)"
   ]
  },
  {
   "cell_type": "code",
   "execution_count": null,
   "metadata": {},
   "outputs": [],
   "source": [
    "sky = MutualInformationCalculator('sky', sentences, lower_words, span, sizeOfCorpus, fdist)\n",
    "sky.calculateAll()\n",
    "sky.printMe()\n",
    "sky.plotFrequencyFigure(10,5)\n",
    "sky.plotMiFigure(10,5)"
   ]
  },
  {
   "cell_type": "code",
   "execution_count": null,
   "metadata": {},
   "outputs": [],
   "source": [
    "life = MutualInformationCalculator('life', sentences, lower_words, span, sizeOfCorpus, fdist)\n",
    "life.calculateAll()\n",
    "life.printMe()\n",
    "life.plotFrequencyFigure(10,20)\n",
    "life.plotMiFigure(10,20)"
   ]
  },
  {
   "cell_type": "code",
   "execution_count": null,
   "metadata": {},
   "outputs": [],
   "source": [
    "love = MutualInformationCalculator('love', sentences, lower_words, span, sizeOfCorpus, fdist)\n",
    "love.calculateAll()\n",
    "love.printMe()\n",
    "love.plotFrequencyFigure(10,10)\n",
    "love.plotMiFigure(10,10)"
   ]
  },
  {
   "cell_type": "code",
   "execution_count": null,
   "metadata": {},
   "outputs": [],
   "source": [
    "hate = MutualInformationCalculator('hate', sentences, lower_words, span, sizeOfCorpus, fdist)\n",
    "hate.calculateAll()\n",
    "hate.removeCollocatesBelowFrequency(2)\n",
    "hate.removeCollocatesBelowMI(3)\n",
    "hate.printMe()\n",
    "hate.plotFrequencyFigure(10,5)\n",
    "hate.plotMiFigure(10,5)"
   ]
  }
 ],
 "metadata": {
  "kernelspec": {
   "display_name": "Python 3.10.8 64-bit (microsoft store)",
   "language": "python",
   "name": "python3"
  },
  "language_info": {
   "codemirror_mode": {
    "name": "ipython",
    "version": 3
   },
   "file_extension": ".py",
   "mimetype": "text/x-python",
   "name": "python",
   "nbconvert_exporter": "python",
   "pygments_lexer": "ipython3",
   "version": "3.10.8"
  },
  "orig_nbformat": 4,
  "vscode": {
   "interpreter": {
    "hash": "43b9575b074e1392a1c24d545d7a593cce1ed78c3ebf689988faf70d4f44ec55"
   }
  }
 },
 "nbformat": 4,
 "nbformat_minor": 2
}
