{
 "cells": [
  {
   "cell_type": "markdown",
   "metadata": {},
   "source": [
    "This notebook can be used to save BNC corpus data to a external file as a python object.\n",
    "\n",
    "This way when running different notebooks the object can be loaded quickly into use without the painstakinly slow process getting the data from the xml dataset.\n",
    "\n",
    "Make sure that you decent amount of RAM in your computer of loading the whole corpus to memory."
   ]
  },
  {
   "cell_type": "code",
   "execution_count": 1,
   "metadata": {},
   "outputs": [],
   "source": [
    "import nltk\n",
    "from nltk.corpus.reader.bnc import BNCCorpusReader\n"
   ]
  },
  {
   "cell_type": "code",
   "execution_count": 2,
   "metadata": {},
   "outputs": [],
   "source": [
    "#only using folders A-C for now\n",
    "'''Casting reader output to list. For some reason,\n",
    "this makes all other processing to go tens of times faster.\n",
    "The downside is that the casting takes significant amount of time,\n",
    "but it has to be done only once.'''\n",
    "reader = BNCCorpusReader(root='BNC/Texts/', fileids=r'[A-K]/\\w*/\\w*\\.xml')\n",
    "\n",
    "#Runtime with my CPU Ryzen 5 5600X ~30 minutes\n",
    "sents = list(reader.tagged_sents())"
   ]
  },
  {
   "cell_type": "code",
   "execution_count": 3,
   "metadata": {},
   "outputs": [],
   "source": [
    "'''Casting reader output to list. For some reason,\n",
    "this makes all other processing to go tens of times faster.\n",
    "The downside is that the casting takes significant amount of time,\n",
    "but it has to be done only once.'''\n",
    "#Runtime with my CPU Ryzen 5 5600X ~54 minutes\n",
    "words = list(reader.words())"
   ]
  },
  {
   "cell_type": "markdown",
   "metadata": {},
   "source": [
    "How to save the object to a file."
   ]
  },
  {
   "cell_type": "code",
   "execution_count": 4,
   "metadata": {},
   "outputs": [],
   "source": [
    "import pickle\n",
    "#Runtime 30 seconds\n",
    "#Filesize ~750MB\n",
    "with open('wordsFULL.pkl', 'wb') as output:\n",
    "    pickle.dump(words, output, pickle.HIGHEST_PROTOCOL)"
   ]
  },
  {
   "cell_type": "code",
   "execution_count": 5,
   "metadata": {},
   "outputs": [],
   "source": [
    "#Runtime 3 minutes\n",
    "#Filesize ~1,77GB\n",
    "with open('sentsFULL.pkl', 'wb') as output:\n",
    "    pickle.dump(sents, output, pickle.HIGHEST_PROTOCOL)"
   ]
  },
  {
   "cell_type": "markdown",
   "metadata": {},
   "source": [
    "Example how to load the pickeled file back."
   ]
  },
  {
   "cell_type": "code",
   "execution_count": null,
   "metadata": {},
   "outputs": [],
   "source": [
    "#Runtime 1 min 30s\n",
    "with open('sentsFull.pkl', 'rb') as input:\n",
    "    sents = pickle.load(input)\n",
    "\n",
    "len(sents)"
   ]
  },
  {
   "cell_type": "code",
   "execution_count": null,
   "metadata": {},
   "outputs": [],
   "source": [
    "#Runtime 30s\n",
    "with open('wordsFull.pkl', 'rb') as input:\n",
    "    words = pickle.load(input)\n",
    "\n",
    "len(words)"
   ]
  }
 ],
 "metadata": {
  "kernelspec": {
   "display_name": "Python 3.10.8 64-bit (microsoft store)",
   "language": "python",
   "name": "python3"
  },
  "language_info": {
   "codemirror_mode": {
    "name": "ipython",
    "version": 3
   },
   "file_extension": ".py",
   "mimetype": "text/x-python",
   "name": "python",
   "nbconvert_exporter": "python",
   "pygments_lexer": "ipython3",
   "version": "3.10.8"
  },
  "orig_nbformat": 4,
  "vscode": {
   "interpreter": {
    "hash": "43b9575b074e1392a1c24d545d7a593cce1ed78c3ebf689988faf70d4f44ec55"
   }
  }
 },
 "nbformat": 4,
 "nbformat_minor": 2
}
