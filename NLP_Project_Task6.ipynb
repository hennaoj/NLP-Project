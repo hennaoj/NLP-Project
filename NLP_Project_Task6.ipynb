{
 "cells": [
  {
   "cell_type": "markdown",
   "id": "28bb9511",
   "metadata": {},
   "source": [
    "Task 5 approach so far. Only using a part of the corpus since the runtimes would be too long using the whole 100 million word dataset. Aim of the task is to classify whether an adjective/adverb-noun pair in a sentence is a metaphor or not."
   ]
  },
  {
   "cell_type": "code",
   "execution_count": null,
   "id": "40b01714",
   "metadata": {},
   "outputs": [],
   "source": [
    "import nltk\n",
    "from nltk.corpus import wordnet as wn\n",
    "from nltk.corpus.reader.bnc import BNCCorpusReader\n",
    "from nltk.stem.wordnet import WordNetLemmatizer\n",
    "import numpy as np\n",
    "from operator import itemgetter\n",
    "import re\n",
    "import pickle\n",
    "from nltk import FreqDist"
   ]
  },
  {
   "cell_type": "code",
   "execution_count": null,
   "id": "226ec1e6",
   "metadata": {},
   "outputs": [],
   "source": [
    "#only using folders A-C for now\n",
    "'''Casting reader output to list. For some reason,\n",
    "this makes all other processing to go tens of times faster.\n",
    "The downside is that the casting takes significant amount of time,\n",
    "but it has to be done only once.'''\n",
    "#reader = BNCCorpusReader(root='BNC/Texts/', fileids=r'[A-C]/\\w*/\\w*\\.xml')\n",
    "\n",
    "#Runtime with my CPU Ryzen 5 5600X ~12 minutes\n",
    "#sents = list(reader.tagged_sents())\n",
    "with open('sentsFull.pkl', 'rb') as input:\n",
    "    sents = pickle.load(input)"
   ]
  },
  {
   "cell_type": "code",
   "execution_count": null,
   "id": "f3cebd65",
   "metadata": {},
   "outputs": [],
   "source": [
    "'''Casting reader output to list. For some reason,\n",
    "this makes all other processing to go tens of times faster.\n",
    "The downside is that the casting takes significant amount of time,\n",
    "but it has to be done only once.'''\n",
    "#Runtime with my CPU Ryzen 5 5600X ~12 minutes\n",
    "#words = list(reader.words())\n",
    "with open('wordsFull.pkl', 'rb') as input:\n",
    "    words = pickle.load(input)"
   ]
  },
  {
   "cell_type": "code",
   "execution_count": null,
   "id": "5b4b7b80",
   "metadata": {},
   "outputs": [],
   "source": [
    "#some preprocessing (removing special characters and numbers from the list of words and changing all the words into lower case)\n",
    "#runtime would be about 1.5 hours if using the whole corpus, though probably (and hopefully) shorter on a better computer\n",
    "\n",
    "wordlist = []\n",
    "special_chars = ['(',')',',','\"','.','!','?','-','\\'','‘','’','—',':']\n",
    "for w in words:\n",
    "    if w not in special_chars and not w.isnumeric():\n",
    "        wordlist.append(w.lower())"
   ]
  },
  {
   "cell_type": "code",
   "execution_count": null,
   "id": "e08483de",
   "metadata": {},
   "outputs": [],
   "source": [
    "len(wordlist)"
   ]
  },
  {
   "cell_type": "code",
   "execution_count": null,
   "id": "455539f9",
   "metadata": {},
   "outputs": [],
   "source": [
    "#To increase performance, we will calculate all word frequencies here at once\n",
    "#Previously we calculated one at a time, resulting in hundereds of loops over wordlist\n",
    "\n",
    "#Runtime ~15 seconds\n",
    "freqDist = FreqDist(wordlist)"
   ]
  },
  {
   "cell_type": "code",
   "execution_count": null,
   "id": "926eca56",
   "metadata": {},
   "outputs": [],
   "source": [
    "def find_pair(sentence):\n",
    "    '''\n",
    "    Finds adjective/adverb-noun part-of-speech in a given sentence using nltk part-of-speech tagging. \n",
    "    Returns only the first occurence of such pair in a sentence.\n",
    "    '''\n",
    "    pair = []\n",
    "    tagged_words = nltk.pos_tag(sentence.split())\n",
    "    adjectives = ['JJ', 'JJR', 'JJS', 'RB', 'RBR', 'RBS']\n",
    "    nouns = ['NN', 'NNS', 'NNPS', 'NNP']\n",
    "    for i in range(len(tagged_words) - 1):\n",
    "        word1_category = tagged_words[i][1]\n",
    "        word2_category = tagged_words[i + 1][1]\n",
    "        if word1_category in adjectives and word2_category in nouns:\n",
    "            pair = [tagged_words[i][0].lower(), re.sub('\\W+','', tagged_words[i + 1][0]).lower()]\n",
    "            return pair\n",
    "    return pair\n",
    "\n",
    "def check_senses(pair):\n",
    "    '''\n",
    "    Given an adjective/adverb-noun pair checks that the adjective/adverb has more than one sense and the noun has an\n",
    "    entry in WordNet.\n",
    "    '''\n",
    "    adj = pair[0]\n",
    "    noun = pair[1]\n",
    "    if len(wn.synsets(adj)) == 1:\n",
    "        print('Adjective has only one sense!')\n",
    "        return False\n",
    "    elif len(wn.synsets(noun)) == 0:\n",
    "        print('Noun has no entry in WordNet!')\n",
    "        return False\n",
    "    return True\n",
    "\n",
    "def find_words_near(node):\n",
    "    '''\n",
    "    Finds nouns appearing next to a given node word by checking each sentence of the corpus individually.\n",
    "    '''\n",
    "    print('Looking for words appearing next to', node)\n",
    "    words_near = []\n",
    "    for sentence in sents:\n",
    "        for i in range(len(sentence)):\n",
    "            if sentence[i][0] == node:\n",
    "                indexesToTry = [i - 1, i + 1]\n",
    "                for index in indexesToTry:\n",
    "                    if index >= 0 and index < len(sentence):\n",
    "                        if sentence[index][1] and sentence[index][1] == 'SUBST':\n",
    "                            words_near.append(sentence[index][0].lower())\n",
    "    return words_near\n",
    "\n",
    "def find_collocates(node, words_near):\n",
    "    '''\n",
    "    Finds all unique collocate nouns from a list of nouns that appear near the node word. A noun is considered a collocate\n",
    "    when its mutual information to the node is greater or equal to 3. Only considers nouns that appear at least twice\n",
    "    near the node word.\n",
    "    '''\n",
    "    print('Determining the collocates of', node)\n",
    "    collocates = []\n",
    "    checked = []\n",
    "    #freq_node = wordlist.count(node) #Replaced by taking frequency from precalculated distribution\n",
    "    freq_node = freqDist[node]\n",
    "    for word in words_near:\n",
    "        if word not in checked:\n",
    "            checked.append(word)\n",
    "            freq_near = words_near.count(word)\n",
    "            if freq_near >= 2:\n",
    "                #freq_collocate = wordlist.count(word) #Replaced by taking frequency from precalculated distribution\n",
    "                freq_collocate = freqDist[word]\n",
    "                mutual_information = calculate_mutual_information(freq_node, freq_collocate, freq_near)\n",
    "                if mutual_information >= 3:\n",
    "                    if (word, mutual_information) not in collocates:\n",
    "                        collocates.append((word, mutual_information))\n",
    "    return collocates\n",
    "\n",
    "def calculate_mutual_information(freq_node, freq_collocate, freq_near):\n",
    "    '''\n",
    "    Calculates the mutual information between a node and a possible collocate using the expression (2) in\n",
    "    the article https://journals.plos.org/plosone/article?id=10.1371/journal.pone.0062343 by Neuman et al (2013).\n",
    "    '''\n",
    "    corpus_size = len(wordlist)\n",
    "    span = 2 #maybe?\n",
    "    mutual_information = np.log10((freq_near * corpus_size)/(freq_node * freq_collocate * span))/np.log10(2)\n",
    "    return mutual_information\n",
    "\n",
    "with open('WordNet2/Words.cat', 'r') as file:\n",
    "    data = file.readlines()\n",
    "    nouns = data[25040:94946]\n",
    "    \n",
    "tidy_nouns = []\n",
    "for noun in nouns:\n",
    "    noun = noun.replace(' (1)', '')\n",
    "    noun = noun.replace('\\t', '')\n",
    "    noun = noun.replace('\\n', '')\n",
    "    noun = noun.lower()\n",
    "    tidy_nouns.append(noun)\n",
    "\n",
    "def find_classes(collocates):\n",
    "    '''\n",
    "    Classifies a list of nouns using WordStat. Returns a list of nouns (and their mutual information also given in\n",
    "    the input list) that belong to a concrete class. The list is sorted by the mutual information value in ascending order.\n",
    "    '''\n",
    "    Lem = WordNetLemmatizer()\n",
    "\n",
    "    current_class = ''\n",
    "    classified_nouns = []\n",
    "    \n",
    "    #there should be 13 concrete classes out of the 25 classes, now there is 12 and some might be incorrect :D\n",
    "    concrete_classes = ['animal', 'artifact', 'body', 'event', 'food', 'location', 'object', 'person', 'possession',\n",
    "                       'plant', 'shape', 'substance']\n",
    "\n",
    "    for target in collocates:\n",
    "        if tidy_nouns.count(target[0]) > 0:\n",
    "            for noun in tidy_nouns:\n",
    "                #changing the noun class (e.g. when noun.food is encountered, class is 'food' until the next noun\n",
    "                #class is encountered)\n",
    "                if 'noun.' in noun:\n",
    "                    noun_split = noun.split('.')\n",
    "                    current_class = noun_split[1]\n",
    "                elif noun == target[0] and current_class in concrete_classes:\n",
    "                    #only adding nouns that are not already in the list (some might be in more than one conrete class)\n",
    "                    if (noun, target[1]) not in classified_nouns:\n",
    "                        classified_nouns.append((noun, target[1]))\n",
    "    #sorting by the mutual information value\n",
    "    classified_nouns = sorted(classified_nouns, key=itemgetter(1))\n",
    "    return classified_nouns\n",
    "\n",
    "def calculate_compatibility(classified_nouns, node):\n",
    "    '''\n",
    "    Calulates the Wu and Palmer semantic similarity\n",
    "    '''\n",
    "    compatible = []\n",
    "    for word in classified_nouns:\n",
    "        syn1 = wn.synsets(word[0])[0]\n",
    "        syn2 = wn.synsets(node)[0]\n",
    "        similarity = syn1.wup_similarity(syn2)\n",
    "        if similarity >= 0.3:\n",
    "            compatible.append(word[0])\n",
    "    return compatible"
   ]
  },
  {
   "cell_type": "code",
   "execution_count": null,
   "id": "6cc7c2fb",
   "metadata": {},
   "outputs": [],
   "source": [
    "def is_a_metaphor(sentence):\n",
    "    '''\n",
    "    Determines whether a sentence includes a type III metaphor (adjective/adverb-noun metaphor) by going through a set of steps.\n",
    "    '''\n",
    "    pair = find_pair(sentence)\n",
    "    if not pair:\n",
    "        print('No pair!')\n",
    "        return\n",
    "    print('Pair found: ', pair)\n",
    "    \n",
    "    check = check_senses(pair)\n",
    "    if not check:\n",
    "        print('Sense check failed!')\n",
    "        return\n",
    "    print('Sense check ok!')\n",
    "    \n",
    "    adjective = pair[0]\n",
    "    noun = pair[1]\n",
    "    \n",
    "    words_near = find_words_near(adjective)\n",
    "    print('Found', len(words_near), 'nouns near', adjective)\n",
    "    \n",
    "    collocates = find_collocates(adjective, words_near)\n",
    "    print('Found', len(collocates), 'unique collocates')\n",
    "    \n",
    "    if not collocates:\n",
    "        print('Undetermined, not enough collocates')\n",
    "        return\n",
    "    \n",
    "    classified_nouns = find_classes(collocates)\n",
    "    print(len(classified_nouns), 'collocate words in concrete classes')\n",
    "    \n",
    "    if not classified_nouns:\n",
    "        return 'Is a metaphor!'\n",
    "    \n",
    "    compatible = calculate_compatibility(classified_nouns[-3:], noun)\n",
    "    print('Out of the top three collocates belonging to concrete classes,', len(compatible), 'are compatible with the noun')\n",
    "    \n",
    "    if compatible:\n",
    "        return 'Not a metaphor!'\n",
    "    return 'Is a metaphor!'"
   ]
  },
  {
   "cell_type": "markdown",
   "id": "5e0ca661",
   "metadata": {},
   "source": [
    "Below are a few example sentences, the counts in the first one are there just to check that the code was running okay and removed from the later test runs. Some phrases are classified correctly, some not. ~~On average it takes about 15 to 20 minutes to run is_a_metaphor() for one sentence, but again the time might be considerably shorter on better computers.~~\n",
    "\n",
    "Due to updates each search takes only seconds."
   ]
  },
  {
   "cell_type": "code",
   "execution_count": null,
   "id": "c59f27ad",
   "metadata": {},
   "outputs": [],
   "source": [
    "is_a_metaphor('She is such a dramatic person!')"
   ]
  },
  {
   "cell_type": "code",
   "execution_count": null,
   "id": "50619612",
   "metadata": {},
   "outputs": [],
   "source": [
    "is_a_metaphor('He has a green thumb.')"
   ]
  },
  {
   "cell_type": "code",
   "execution_count": null,
   "id": "c3a6e947",
   "metadata": {},
   "outputs": [],
   "source": [
    "is_a_metaphor('I have a curious cat who likes to get into trouble.')"
   ]
  },
  {
   "cell_type": "code",
   "execution_count": null,
   "id": "3bd382bc",
   "metadata": {},
   "outputs": [],
   "source": [
    "is_a_metaphor('They stood in the dead center of the room.')"
   ]
  },
  {
   "cell_type": "code",
   "execution_count": null,
   "id": "896cd926",
   "metadata": {},
   "outputs": [],
   "source": [
    "is_a_metaphor('Do you have a colourful mind?')"
   ]
  },
  {
   "cell_type": "code",
   "execution_count": null,
   "id": "635768a5",
   "metadata": {},
   "outputs": [],
   "source": [
    "'''\n",
    "Formatting of the metaphor annotated corpus: http://aclweb.org/anthology/W/W17/W17-2201.pdf\n",
    "Example: destroying alexandria . sunlight is silence @4@y\n",
    "@-sign separates different fields\n",
    "Sentece:                        destroying alexandria . sunlight is silence\n",
    "Position of the head word       4 -> sunlight\n",
    "Is the expression a metaphore?  y ()\n",
    "'''\n",
    "annotatedSentences = []\n",
    "#cleanAnnotatedSentences = [] #Not cleaning for now\n",
    "headWordPosition = []\n",
    "isSentenceMetaphor = []\n",
    "with open(\"type1_metaphor_annotated.txt\") as textfile:\n",
    "    for line in textfile: \n",
    "        line = line.split(\"@\")\n",
    "        if(line[2] != 's'): #Exclude sentences which humans failed to classify\n",
    "            annotatedSentences.append(line[0].strip())\n",
    "            headWordPosition.append(line[1].strip())\n",
    "            isSentenceMetaphor.append(line[2].strip())\n",
    "\n",
    "'''\n",
    "The dataset is quite problematic because the text is so unclean:\n",
    "(\n",
    "the night is each man 's castle . @2@y\n",
    "swelling lukewarm ; her mouth is water , @5@y\n",
    "& yet the earth is divinity , the sky is divinity @4@n\n",
    "\"i am the resurrection and the life . \" @1@n\n",
    "\"how is the dean ? \" -- \"he 's just alive . \" @1@n <-- especially problematic, because quotation mark is connected to the word\n",
    ")\n",
    "If all special characters are cleaned a way, the head word\n",
    "position tag may change, and we cannot reliably verify the algorithm.\n",
    "If not cleaned, the some words are left unrecognized...\n",
    "\n",
    "For now, data is not cleaned before taking it to the algorithm\n",
    "'''"
   ]
  },
  {
   "cell_type": "code",
   "execution_count": null,
   "id": "2eef8d58",
   "metadata": {},
   "outputs": [],
   "source": [
    "predictions = []\n",
    "for sentence in annotatedSentences:\n",
    "    if is_a_metaphor(sentence):\n",
    "        predictions.append('y')\n",
    "    else:\n",
    "        predictions.append('n')"
   ]
  },
  {
   "cell_type": "code",
   "execution_count": null,
   "id": "3a7017a3",
   "metadata": {},
   "outputs": [],
   "source": [
    "print(len(predictions))\n",
    "print(len(isSentenceMetaphor))"
   ]
  },
  {
   "cell_type": "code",
   "execution_count": null,
   "id": "e2b327cd",
   "metadata": {},
   "outputs": [],
   "source": [
    "print(predictions)"
   ]
  },
  {
   "cell_type": "code",
   "execution_count": null,
   "id": "07cade07",
   "metadata": {},
   "outputs": [],
   "source": [
    "print(isSentenceMetaphor)"
   ]
  },
  {
   "cell_type": "code",
   "execution_count": null,
   "id": "68ef1420",
   "metadata": {},
   "outputs": [],
   "source": [
    "PredictedPositives = predictions.count('y')\n",
    "PredictedNegatives = predictions.count('n')\n",
    "TruePositives = 0\n",
    "FalsePositives = 0\n",
    "TrueNegatives = 0\n",
    "FalseNegatives = 0\n",
    "Positives = isSentenceMetaphor.count('y') #Ground truth\n",
    "Negatives = isSentenceMetaphor.count('n') #Ground truth\n",
    "\n",
    "for i in range(len(isSentenceMetaphor)):\n",
    "    if predictions[i] == 'y' and isSentenceMetaphor[i] == 'y':\n",
    "        TruePositives +=1\n",
    "    elif predictions[i] == 'y' and isSentenceMetaphor[i] == 'n':\n",
    "        FalsePositives += 1\n",
    "    elif predictions[i] == 'n' and isSentenceMetaphor[i] == 'n':\n",
    "        TrueNegatives += 1\n",
    "    elif predictions[i] == 'n' and isSentenceMetaphor[i] == 'y':\n",
    "        FalseNegatives += 1\n",
    "\n",
    "print(\"Positives: \" + str(Positives))\n",
    "print(\"Negatives: \" + str(Negatives))\n",
    "print(\"Predicted positives: \" + str(PredictedPositives))\n",
    "print(\"Predicted negatives: \" + str(PredictedNegatives))\n",
    "print(\"TP: \" + str(TruePositives))\n",
    "print(\"FP: \" + str(FalsePositives))\n",
    "print(\"TN: \" + str(TrueNegatives))\n",
    "print(\"FN: \" + str(FalseNegatives))\n",
    "\n"
   ]
  },
  {
   "cell_type": "code",
   "execution_count": null,
   "id": "7b59cb64",
   "metadata": {},
   "outputs": [],
   "source": [
    "accuracy = (TruePositives + TrueNegatives) / (Positives + Negatives)\n",
    "print(accuracy)"
   ]
  }
 ],
 "metadata": {
  "kernelspec": {
   "display_name": "Python 3.10.8 64-bit (microsoft store)",
   "language": "python",
   "name": "python3"
  },
  "language_info": {
   "codemirror_mode": {
    "name": "ipython",
    "version": 3
   },
   "file_extension": ".py",
   "mimetype": "text/x-python",
   "name": "python",
   "nbconvert_exporter": "python",
   "pygments_lexer": "ipython3",
   "version": "3.10.8"
  },
  "vscode": {
   "interpreter": {
    "hash": "43b9575b074e1392a1c24d545d7a593cce1ed78c3ebf689988faf70d4f44ec55"
   }
  }
 },
 "nbformat": 4,
 "nbformat_minor": 5
}
